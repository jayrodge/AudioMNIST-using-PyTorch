{
  "nbformat": 4,
  "nbformat_minor": 0,
  "metadata": {
    "colab": {
      "name": "CrossValidation.ipynb",
      "version": "0.3.2",
      "provenance": [],
      "collapsed_sections": [],
      "include_colab_link": true
    },
    "kernelspec": {
      "name": "python3",
      "display_name": "Python 3"
    },
    "accelerator": "GPU"
  },
  "cells": [
    {
      "cell_type": "markdown",
      "metadata": {
        "id": "view-in-github",
        "colab_type": "text"
      },
      "source": [
        "<a href=\"https://colab.research.google.com/github/jayrodge/AudioMNIST-using-PyTorch/blob/master/CrossValidation.ipynb\" target=\"_parent\"><img src=\"https://colab.research.google.com/assets/colab-badge.svg\" alt=\"Open In Colab\"/></a>"
      ]
    },
    {
      "metadata": {
        "id": "OrqGeCOKj18n",
        "colab_type": "code",
        "outputId": "be047dfd-35f2-4da6-89e0-af6c76137754",
        "colab": {
          "base_uri": "https://localhost:8080/",
          "height": 153
        }
      },
      "cell_type": "code",
      "source": [
        "!git clone https://github.com/jayrodge/AudioMNIST-using-PyTorch.git"
      ],
      "execution_count": 0,
      "outputs": [
        {
          "output_type": "stream",
          "text": [
            "Cloning into 'AudioMNIST-using-PyTorch'...\n",
            "remote: Enumerating objects: 40, done.\u001b[K\n",
            "remote: Counting objects: 100% (40/40), done.\u001b[K\n",
            "remote: Compressing objects: 100% (39/39), done.\u001b[K\n",
            "remote: Total 60168 (delta 14), reused 13 (delta 1), pack-reused 60128\n",
            "Receiving objects: 100% (60168/60168), 1.40 GiB | 23.49 MiB/s, done.\n",
            "Resolving deltas: 100% (17/17), done.\n",
            "Checking out files: 100% (90006/90006), done.\n"
          ],
          "name": "stdout"
        }
      ]
    },
    {
      "metadata": {
        "id": "8gd8gU6sj-YW",
        "colab_type": "code",
        "colab": {}
      },
      "cell_type": "code",
      "source": [
        "import os \n",
        "os.chdir('AudioMNIST-using-PyTorch/')\n",
        "\n",
        "# for i in range(10):\n",
        "#   os.mkdir('MNIST/'+str(i))"
      ],
      "execution_count": 0,
      "outputs": []
    },
    {
      "metadata": {
        "id": "ElkOzadrkbXG",
        "colab_type": "code",
        "colab": {}
      },
      "cell_type": "code",
      "source": [
        "import torch\n",
        "import numpy as np\n",
        "from tqdm import tqdm\n",
        "import torch.optim asees optim\n",
        "from torchvision import datasets\n",
        "import torchvision.transforms as transforms\n",
        "from sklearn.model_selection import ShuffleSplit\n",
        "from torch.utils.data.sampler import SubsetRandomSampler"
      ],
      "execution_count": 0,
      "outputs": []
    },
    {
      "metadata": {
        "id": "0Yhu6XX0kf3m",
        "colab_type": "code",
        "colab": {}
      },
      "cell_type": "code",
      "source": [
        "# how many samples per batch to load\n",
        "batch_size = 32\n",
        "\n",
        "# convert data to a normalized torch.FloatTensor\n",
        "transform = transforms.Compose([\n",
        "    transforms.Resize(size=(224,224)),\n",
        "    transforms.ToTensor(),\n",
        "    transforms.Normalize((0.5, 0.5, 0.5), (0.5, 0.5, 0.5))\n",
        "    ])"
      ],
      "execution_count": 0,
      "outputs": []
    },
    {
      "metadata": {
        "id": "jJEQqd2_k1Ya",
        "colab_type": "code",
        "colab": {}
      },
      "cell_type": "code",
      "source": [
        "train_data = datasets.ImageFolder('MNIST/',transform=transform)"
      ],
      "execution_count": 0,
      "outputs": []
    },
    {
      "metadata": {
        "id": "hubhdfJZJqLB",
        "colab_type": "code",
        "colab": {}
      },
      "cell_type": "code",
      "source": [
        "import torch.nn as nn\n",
        "import torch.nn.functional as F\n",
        "train_on_gpu = torch.cuda.is_available()\n",
        "# define the CNN architecture\n",
        "class Net(nn.Module):\n",
        "    def __init__(self):\n",
        "        super(Net, self).__init__()\n",
        "        # convolutional layer\n",
        "        self.conv1 = nn.Conv2d(3, 16, 5)\n",
        "        # max pooling layer\n",
        "        self.pool = nn.MaxPool2d(2, 2)\n",
        "        self.conv2 = nn.Conv2d(16, 32, 5)\n",
        "        self.dropout = nn.Dropout(0.2)\n",
        "        self.fc1 = nn.Linear(32*53*53, 256)\n",
        "        self.fc2 = nn.Linear(256, 84)\n",
        "        self.fc3 = nn.Linear(84, 10)\n",
        "        self.softmax = nn.LogSoftmax(dim=1)\n",
        "\n",
        "    def forward(self, x):\n",
        "        # add sequence of convolutional and max pooling layers\n",
        "        x = self.pool(F.relu(self.conv1(x)))\n",
        "    #         x = self.dropout(x)\n",
        "        x = self.pool(F.relu(self.conv2(x)))\n",
        "        x = self.dropout(x)\n",
        "        x = x.view(-1, 32 * 53 * 53)\n",
        "        x = F.relu(self.fc1(x))\n",
        "        x = self.dropout(F.relu(self.fc2(x)))\n",
        "        x = self.softmax(self.fc3(x))\n",
        "        return x\n"
      ],
      "execution_count": 0,
      "outputs": []
    },
    {
      "metadata": {
        "id": "yfMPfEMCmtES",
        "colab_type": "code",
        "outputId": "c8fa1372-93a9-4f75-9a72-318d2e5430c4",
        "colab": {
          "base_uri": "https://localhost:8080/",
          "height": 1522
        }
      },
      "cell_type": "code",
      "source": [
        "num_data = len(train_data)\n",
        "indices_data = list(range(num_data))\n",
        "ss = ShuffleSplit(n_splits=5, test_size=0.33)\n",
        "\n",
        "iteration = 0\n",
        "\n",
        "\n",
        "for train_index, test_index in ss.split(indices_data):\n",
        "#   print(\"%s %s\" % (len(train_index), len(test_index)))\n",
        "#   train_idx, test_idx = indices_data[train_index], indices_data[test_index]  \n",
        "    print(\"\\nIteration \", iteration)\n",
        "  \n",
        "    train_sampler = SubsetRandomSampler(train_index)\n",
        "    test_sampler = SubsetRandomSampler(test_index)\n",
        "\n",
        "    train_loader = torch.utils.data.DataLoader(train_data, sampler=train_sampler, batch_size=batch_size)\n",
        "    test_loader = torch.utils.data.DataLoader(train_data, sampler=test_sampler, batch_size=batch_size)\n",
        "    \n",
        "    classes = [i for i in range(10)]\n",
        "  \n",
        "    model = Net().cuda()\n",
        "\n",
        "    # criterion\n",
        "    criterion = torch.nn.CrossEntropyLoss()\n",
        "\n",
        "    # optimizer\n",
        "    optimizer = torch.optim.SGD(model.parameters(), lr = 0.001, momentum= 0.9)\n",
        "\n",
        "    n_epochs = 4 # you may increase this number to train a final model\n",
        "\n",
        "    valid_loss_min = np.Inf # track change in validation loss\n",
        "\n",
        "    for epoch in tqdm(range(1, n_epochs+1)):\n",
        "\n",
        "        # keep track of training and validation loss\n",
        "        train_loss = 0.0\n",
        "        valid_loss = 0.0\n",
        "\n",
        "\n",
        "        # train the model \n",
        "        model.train()\n",
        "        for data, target in train_loader:\n",
        "            # move tensors to GPU if CUDA is available\n",
        "            if train_on_gpu:\n",
        "                data, target = data.cuda(), target.cuda()\n",
        "            # clear the gradients of all optimized variables\n",
        "            optimizer.zero_grad()\n",
        "            # forward pass: compute predicted outputs by passing inputs to the model\n",
        "            output = model(data)\n",
        "            # calculate the batch loss\n",
        "            loss = criterion(output, target)\n",
        "            # backward pass: compute gradient of the loss with respect to model parameters\n",
        "            loss.backward()\n",
        "            # perform a single optimization step (parameter update)\n",
        "            optimizer.step()\n",
        "            # update training loss\n",
        "            train_loss += loss.item()*data.size(0)\n",
        "\n",
        "    #Testing\n",
        "\n",
        "    test_loss = 0.0\n",
        "    class_correct = list(0. for i in range(10))\n",
        "    class_total = list(0. for i in range(10))\n",
        "\n",
        "    model.eval()\n",
        "    i=1\n",
        "    # iterate over test data\n",
        "\n",
        "    for data, target in test_loader:\n",
        "        i=i+1\n",
        "        if len(target)!=batch_size:\n",
        "            print(i)\n",
        "            continue\n",
        "        # move tensors to GPU if CUDA is available\n",
        "        if train_on_gpu:\n",
        "            data, target = data.cuda(), target.cuda()\n",
        "        # forward pass: compute predicted outputs by passing inputs to the model\n",
        "        output = model(data)\n",
        "        # calculate the batch loss\n",
        "        loss = criterion(output, target)\n",
        "        # update test loss \n",
        "        test_loss += loss.item()*data.size(0)\n",
        "        # convert output probabilities to predicted class\n",
        "        _, pred = torch.max(output, 1)    \n",
        "        # compare predictions to true label\n",
        "        correct_tensor = pred.eq(target.data.view_as(pred))\n",
        "        correct = np.squeeze(correct_tensor.numpy()) if not train_on_gpu else np.squeeze(correct_tensor.cpu().numpy())\n",
        "        # calculate test accuracy for each object class\n",
        "\n",
        "        for i in range(batch_size):       \n",
        "            label = target.data[i]\n",
        "            class_correct[label] += correct[i].item()\n",
        "            class_total[label] += 1\n",
        "\n",
        "    # average test loss\n",
        "    test_loss = test_loss/len(test_loader.dataset)\n",
        "    print('Test Loss: {:.6f}\\n'.format(test_loss))\n",
        "\n",
        "    for i in range(10):\n",
        "        if class_total[i] > 0:\n",
        "            print('Test Accuracy of %5s: %2d%% (%2d/%2d)' % (\n",
        "                classes[i], 100 * class_correct[i] / class_total[i],\n",
        "                np.sum(class_correct[i]), np.sum(class_total[i])))\n",
        "        else:\n",
        "            print('Test Accuracy of %5s: N/A (no training examples)' % (classes[i]))\n",
        "\n",
        "    print('\\nTest Accuracy (Overall): %2d%% (%2d/%2d)' % (\n",
        "        100. * np.sum(class_correct) / np.sum(class_total),\n",
        "        np.sum(class_correct), np.sum(class_total)))\n",
        "    \n",
        "    iteration = iteration + 1"
      ],
      "execution_count": 11,
      "outputs": [
        {
          "output_type": "stream",
          "text": [
            "\n",
            "Iteration  0\n"
          ],
          "name": "stdout"
        },
        {
          "output_type": "stream",
          "text": [
            "100%|██████████| 4/4 [49:38<00:00, 744.66s/it]\n"
          ],
          "name": "stderr"
        },
        {
          "output_type": "stream",
          "text": [
            "32\n",
            "Test Loss: 0.008580\n",
            "\n",
            "Test Accuracy of     0: 99% (997/1001)\n",
            "Test Accuracy of     1: 98% (976/995)\n",
            "Test Accuracy of     2: 96% (927/958)\n",
            "Test Accuracy of     3: 99% (973/977)\n",
            "Test Accuracy of     4: 99% (952/954)\n",
            "Test Accuracy of     5: 99% (1004/1010)\n",
            "Test Accuracy of     6: 99% (982/987)\n",
            "Test Accuracy of     7: 99% (983/988)\n",
            "Test Accuracy of     8: 99% (1018/1024)\n",
            "Test Accuracy of     9: 99% (992/994)\n",
            "\n",
            "Test Accuracy (Overall): 99% (9804/9888)\n",
            "\n",
            "Iteration  1\n"
          ],
          "name": "stdout"
        },
        {
          "output_type": "stream",
          "text": [
            "100%|██████████| 4/4 [49:37<00:00, 744.22s/it]\n"
          ],
          "name": "stderr"
        },
        {
          "output_type": "stream",
          "text": [
            "32\n",
            "Test Loss: 0.010754\n",
            "\n",
            "Test Accuracy of     0: 99% (971/978)\n",
            "Test Accuracy of     1: 99% (970/977)\n",
            "Test Accuracy of     2: 98% (949/968)\n",
            "Test Accuracy of     3: 99% (982/990)\n",
            "Test Accuracy of     4: 100% (994/994)\n",
            "Test Accuracy of     5: 99% (982/983)\n",
            "Test Accuracy of     6: 98% (960/975)\n",
            "Test Accuracy of     7: 99% (988/991)\n",
            "Test Accuracy of     8: 99% (1031/1035)\n",
            "Test Accuracy of     9: 95% (953/997)\n",
            "\n",
            "Test Accuracy (Overall): 98% (9780/9888)\n",
            "\n",
            "Iteration  2\n"
          ],
          "name": "stdout"
        },
        {
          "output_type": "stream",
          "text": [
            "100%|██████████| 4/4 [49:42<00:00, 745.79s/it]\n"
          ],
          "name": "stderr"
        },
        {
          "output_type": "stream",
          "text": [
            "32\n",
            "Test Loss: 0.009314\n",
            "\n",
            "Test Accuracy of     0: 98% (982/996)\n",
            "Test Accuracy of     1: 99% (1005/1010)\n",
            "Test Accuracy of     2: 99% (996/997)\n",
            "Test Accuracy of     3: 99% (975/982)\n",
            "Test Accuracy of     4: 99% (950/956)\n",
            "Test Accuracy of     5: 99% (993/1001)\n",
            "Test Accuracy of     6: 99% (974/983)\n",
            "Test Accuracy of     7: 97% (998/1019)\n",
            "Test Accuracy of     8: 98% (939/955)\n",
            "Test Accuracy of     9: 99% (983/989)\n",
            "\n",
            "Test Accuracy (Overall): 99% (9795/9888)\n",
            "\n",
            "Iteration  3\n"
          ],
          "name": "stdout"
        },
        {
          "output_type": "stream",
          "text": [
            "100%|██████████| 4/4 [49:46<00:00, 746.53s/it]\n"
          ],
          "name": "stderr"
        },
        {
          "output_type": "stream",
          "text": [
            "32\n",
            "Test Loss: 0.008694\n",
            "\n",
            "Test Accuracy of     0: 99% (949/956)\n",
            "Test Accuracy of     1: 99% (1016/1025)\n",
            "Test Accuracy of     2: 99% (979/988)\n",
            "Test Accuracy of     3: 99% (954/957)\n",
            "Test Accuracy of     4: 99% (990/995)\n",
            "Test Accuracy of     5: 98% (954/969)\n",
            "Test Accuracy of     6: 99% (987/991)\n",
            "Test Accuracy of     7: 97% (964/990)\n",
            "Test Accuracy of     8: 99% (988/990)\n",
            "Test Accuracy of     9: 99% (1018/1027)\n",
            "\n",
            "Test Accuracy (Overall): 99% (9799/9888)\n",
            "\n",
            "Iteration  4\n"
          ],
          "name": "stdout"
        },
        {
          "output_type": "stream",
          "text": [
            "100%|██████████| 4/4 [49:48<00:00, 747.04s/it]\n"
          ],
          "name": "stderr"
        },
        {
          "output_type": "stream",
          "text": [
            "32\n",
            "Test Loss: 0.011487\n",
            "\n",
            "Test Accuracy of     0: 98% (963/973)\n",
            "Test Accuracy of     1: 100% (966/966)\n",
            "Test Accuracy of     2: 99% (999/1001)\n",
            "Test Accuracy of     3: 98% (985/996)\n",
            "Test Accuracy of     4: 98% (966/981)\n",
            "Test Accuracy of     5: 97% (999/1025)\n",
            "Test Accuracy of     6: 98% (928/939)\n",
            "Test Accuracy of     7: 99% (1003/1010)\n",
            "Test Accuracy of     8: 99% (992/993)\n",
            "Test Accuracy of     9: 98% (985/1004)\n",
            "\n",
            "Test Accuracy (Overall): 98% (9786/9888)\n"
          ],
          "name": "stdout"
        }
      ]
    },
    {
      "metadata": {
        "id": "iUANvjjro_Ft",
        "colab_type": "code",
        "colab": {}
      },
      "cell_type": "code",
      "source": [
        "# Loading saved model\n",
        "# model.load_state_dict(torch.load('model_cifar.pt'))"
      ],
      "execution_count": 0,
      "outputs": []
    },
    {
      "metadata": {
        "id": "_eElwCNiyE6P",
        "colab_type": "code",
        "colab": {}
      },
      "cell_type": "code",
      "source": [
        ""
      ],
      "execution_count": 0,
      "outputs": []
    }
  ]
}